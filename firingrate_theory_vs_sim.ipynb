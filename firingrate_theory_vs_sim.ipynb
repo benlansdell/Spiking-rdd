{
 "cells": [
  {
   "cell_type": "markdown",
   "metadata": {},
   "source": [
    "## Comparing theoretical and simulated firing rate of LIF neurons"
   ]
  },
  {
   "cell_type": "code",
   "execution_count": 1,
   "metadata": {},
   "outputs": [
    {
     "name": "stdout",
     "output_type": "stream",
     "text": [
      "Populating the interactive namespace from numpy and matplotlib\n"
     ]
    }
   ],
   "source": [
    "%pylab inline\n",
    "pylab.rcParams['figure.figsize'] = (10, 6)\n",
    "\n",
    "#%matplotlib inline\n",
    "\n",
    "import matplotlib\n",
    "import numpy as np\n",
    "import scipy\n",
    "import matplotlib.pyplot as plt\n",
    "import numpy.random as rand\n",
    "import pandas as pd\n",
    "import seaborn as sns\n",
    "from matplotlib import animation, rc\n",
    "from IPython.display import HTML\n",
    "\n",
    "from lib.lif import LIF, ParamsLIF, firingrate_LIF"
   ]
  },
  {
   "cell_type": "markdown",
   "metadata": {},
   "source": [
    "The analytic firing rate is given by\n",
    "$$\n",
    "f_i(I_i) = \\left[\\tau_m \\int_0^\\infty \\frac{1}{u}e^{-u^2}(e^{2y_{th}u}-e^{2y_ru})\\,du\\right]^{-1}\n",
    "$$\n",
    "where $I_i = \\sum_{j}W_{ij}s_{ij}$ and $y_{th} = \\frac{1}{\\sigma_i}(V_{th}-V_{rest}-I_i)$, and $y_{r} = \\frac{1}{\\sigma_i}(V_{r}-V_{rest}-I_i)$. For $V_{th}$ being the threshold voltage, $V_r$ the reset voltage and $V_{rest}$ the rest voltage.\n",
    "\n",
    "In our case the the noise is also a function of parameters $W_{ij}$:\n",
    "$$\n",
    "\\xi_i = \\sum_j W_{ij}\\xi_{ij}.\n",
    "$$\n",
    "We assume that the noise going into a given neuron $i$ is independent, but that noise between neurons can be shared. Here the variables $\\xi_{ij}$ are white noise with variance $\\sigma_\\xi^2$. This means the overall input noise into a neuron is also white noise with variance:\n",
    "$$\n",
    "\\sigma^2_i = \\sigma_{\\xi}^2 \\sum_{j}W_{ij}^2.\n",
    "$$"
   ]
  },
  {
   "cell_type": "markdown",
   "metadata": {},
   "source": [
    "We can plot the firing rate as a function of $W_ij$ and $s_{ij}$ and compare it to simulation. We set $\\tau_m = 1, V_{th} = 1, V_r = 0, V_{rest} = 0$ and $\\sigma"
   ]
  },
  {
   "cell_type": "code",
   "execution_count": 19,
   "metadata": {},
   "outputs": [],
   "source": [
    "N = 50\n",
    "wmax = 20\n",
    "smax = 5\n",
    "wvals = np.linspace(-wmax, wmax, N)\n",
    "svals = np.linspace(0, smax, N)\n",
    "rate = np.zeros((N, N))\n",
    "\n",
    "sigma = 10\n",
    "tau = 1\n",
    "mu = 1\n",
    "c = 0\n",
    "params_lif = ParamsLIF(sigma = sigma, tau = tau, mu = mu, c = c)\n",
    "\n",
    "w = np.zeros(2)\n",
    "s = np.zeros(2)\n",
    "\n",
    "for i in range(N):\n",
    "    for j in range(N):\n",
    "        w[0] = wvals[i]\n",
    "        s[0] = svals[j]\n",
    "        r = firingrate_LIF(params_lif, w, s)\n",
    "        if not np.isnan(r):\n",
    "            rate[i,j] = r"
   ]
  },
  {
   "cell_type": "code",
   "execution_count": 21,
   "metadata": {},
   "outputs": [
    {
     "data": {
      "text/plain": [
       "<matplotlib.text.Text at 0x7f46a11f9350>"
      ]
     },
     "execution_count": 21,
     "metadata": {},
     "output_type": "execute_result"
    },
    {
     "data": {
      "image/png": "[encoded data removed]",
      "text/plain": [
       "<matplotlib.figure.Figure at 0x7f46ae308610>"
      ]
     },
     "metadata": {},
     "output_type": "display_data"
    }
   ],
   "source": [
    "fig, (ax1) = plt.subplots(1,1,figsize=(8,8))\n",
    "a=ax1.contourf(rate, 20, cmap='plasma', origin='lower', extent=[0, smax, -wmax, wmax])\n",
    "plt.colorbar(a)\n",
    "ax1.set_xlabel('s1')\n",
    "ax1.set_ylabel('W1')"
   ]
  },
  {
   "cell_type": "markdown",
   "metadata": {},
   "source": [
    "## Compare to simulation"
   ]
  },
  {
   "cell_type": "code",
   "execution_count": 120,
   "metadata": {},
   "outputs": [],
   "source": [
    "#Create a LIF object\n",
    "N = 20\n",
    "wmax = 20\n",
    "smax = 5\n",
    "wvals = np.linspace(-wmax, wmax, N)\n",
    "svals = np.linspace(0, smax, N)\n",
    "\n",
    "mu = 1\n",
    "c = 0\n",
    "tau = 1\n",
    "sigma = 10\n",
    "tsim = 10\n",
    "\n",
    "w1 = 10\n",
    "w2 = 0\n",
    "params_lif = ParamsLIF(sigma = sigma, tau = tau, mu = mu, c = c)\n",
    "lif = LIF(params_lif, t = tsim)\n",
    "lif.W = np.array([w1, w2])\n",
    "lif.x = 0\n",
    "\n",
    "rate_sim = np.zeros((N,N))"
   ]
  },
  {
   "cell_type": "code",
   "execution_count": 121,
   "metadata": {},
   "outputs": [],
   "source": [
    "#rate_sim"
   ]
  },
  {
   "cell_type": "code",
   "execution_count": 122,
   "metadata": {},
   "outputs": [
    {
     "name": "stdout",
     "output_type": "stream",
     "text": [
      "0\n",
      "1\n",
      "2\n",
      "3\n",
      "4\n",
      "5\n",
      "6\n",
      "7\n",
      "8\n",
      "9\n",
      "10\n",
      "11\n",
      "12\n",
      "13\n",
      "14\n",
      "15\n",
      "16\n",
      "17\n",
      "18\n",
      "19\n"
     ]
    }
   ],
   "source": [
    "for i in range(N):\n",
    "    print i\n",
    "    for j in range(N):\n",
    "        lif.W[0] = wvals[i]\n",
    "        lif.x = svals[j]\n",
    "        (v_raw, h_raw, _, _, _) = lif.simulate()\n",
    "        rate_sim[i,j] = np.sum(h_raw[0,:])/tsim"
   ]
  },
  {
   "cell_type": "code",
   "execution_count": 123,
   "metadata": {},
   "outputs": [
    {
     "data": {
      "text/plain": [
       "<matplotlib.text.Text at 0x7f7757a98590>"
      ]
     },
     "execution_count": 123,
     "metadata": {},
     "output_type": "execute_result"
    },
    {
     "data": {
      "image/png": "[encoded data removed]",
      "text/plain": [
       "<matplotlib.figure.Figure at 0x7f7758958e50>"
      ]
     },
     "metadata": {},
     "output_type": "display_data"
    }
   ],
   "source": [
    "fig, (ax1, ax2) = plt.subplots(1,2,figsize=(10,5))\n",
    "a=ax1.contourf(rate_sim, 30, cmap='plasma', origin='lower', extent=[0, smax, -wmax, wmax])\n",
    "plt.colorbar(a)\n",
    "ax1.set_xlabel('s1')\n",
    "ax1.set_ylabel('W1')\n",
    "\n",
    "a=ax2.contourf(rate, 30, cmap='plasma', origin='lower', extent=[0, smax, -wmax, wmax])\n",
    "#plt.colorbar(a)\n",
    "ax2.set_xlabel('s1')\n",
    "ax2.set_ylabel('W1')"
   ]
  },
  {
   "cell_type": "markdown",
   "metadata": {},
   "source": [
    "There are differences between the theory and sim...\n",
    "Maybe down to the exclusion of refractory period in analytic result?"
   ]
  },
  {
   "cell_type": "code",
   "execution_count": 129,
   "metadata": {
    "collapsed": true
   },
   "outputs": [],
   "source": [
    "#Create a LIF object\n",
    "N = 20\n",
    "wmax = 20\n",
    "smax = 5\n",
    "wvals = np.linspace(-wmax, wmax, N)\n",
    "svals = np.linspace(0, smax, N)\n",
    "\n",
    "mu = 1\n",
    "c = 0\n",
    "tau = 1\n",
    "sigma = 10\n",
    "tsim = 10\n",
    "\n",
    "w1 = 10\n",
    "w2 = 0\n",
    "params_lif = ParamsLIF(sigma = sigma, tau = tau, mu = mu, c = c, tr = 0.001, dt = 0.0002)\n",
    "lif = LIF(params_lif, t = tsim)\n",
    "lif.W = np.array([w1, w2])\n",
    "lif.x = 0\n",
    "\n",
    "rate_sim = np.zeros((N,N))"
   ]
  },
  {
   "cell_type": "code",
   "execution_count": 130,
   "metadata": {},
   "outputs": [
    {
     "name": "stdout",
     "output_type": "stream",
     "text": [
      "0\n",
      "1\n",
      "2\n",
      "3\n",
      "4\n",
      "5\n",
      "6\n",
      "7\n",
      "8\n",
      "9\n",
      "10\n",
      "11\n",
      "12\n",
      "13\n",
      "14\n",
      "15\n",
      "16\n",
      "17\n",
      "18\n",
      "19\n"
     ]
    }
   ],
   "source": [
    "for i in range(N):\n",
    "    print i\n",
    "    for j in range(N):\n",
    "        lif.W[0] = wvals[i]\n",
    "        lif.x = svals[j]\n",
    "        (v_raw, h_raw, _, _, _) = lif.simulate()\n",
    "        rate_sim[i,j] = np.sum(h_raw[0,:])/tsim"
   ]
  },
  {
   "cell_type": "code",
   "execution_count": 133,
   "metadata": {},
   "outputs": [
    {
     "data": {
      "text/plain": [
       "<matplotlib.text.Text at 0x7f7749ed1650>"
      ]
     },
     "execution_count": 133,
     "metadata": {},
     "output_type": "execute_result"
    },
    {
     "data": {
      "image/png": "[encoded data removed]",
      "text/plain": [
       "<matplotlib.figure.Figure at 0x7f7749fde1d0>"
      ]
     },
     "metadata": {},
     "output_type": "display_data"
    }
   ],
   "source": [
    "fig, (ax1, ax2) = plt.subplots(1,2,figsize=(8,8))\n",
    "a=ax1.contourf(rate_sim, 30, cmap='plasma', origin='lower', extent=[0, smax, -wmax, wmax])\n",
    "#plt.colorbar(a)\n",
    "ax1.set_xlabel('s1')\n",
    "ax1.set_ylabel('W1')\n",
    "\n",
    "a=ax2.contourf(rate, 30, cmap='plasma', origin='lower', extent=[0, smax, -wmax, wmax])\n",
    "#plt.colorbar(a)\n",
    "ax2.set_xlabel('s1')\n",
    "ax2.set_ylabel('W1')"
   ]
  },
  {
   "cell_type": "code",
   "execution_count": 134,
   "metadata": {},
   "outputs": [
    {
     "name": "stdout",
     "output_type": "stream",
     "text": [
      "99.4993634844\n",
      "91.2\n"
     ]
    }
   ],
   "source": [
    "print np.max(rate)\n",
    "print np.max(rate_sim)"
   ]
  },
  {
   "cell_type": "code",
   "execution_count": 136,
   "metadata": {},
   "outputs": [],
   "source": [
    "#plt.plot(rate.reshape((-1,1)), rate_sim.reshape((-1,1)))"
   ]
  },
  {
   "cell_type": "markdown",
   "metadata": {},
   "source": [
    "A few percent off, but the form matches, so we can use this. We can precompute the firing rate function for sigma, W, and x and X."
   ]
  },
  {
   "cell_type": "code",
   "execution_count": null,
   "metadata": {
    "collapsed": true
   },
   "outputs": [],
   "source": []
  }
 ],
 "metadata": {
  "kernelspec": {
   "display_name": "Python [default]",
   "language": "python",
   "name": "python2"
  },
  "language_info": {
   "codemirror_mode": {
    "name": "ipython",
    "version": 2
   },
   "file_extension": ".py",
   "mimetype": "text/x-python",
   "name": "python",
   "nbconvert_exporter": "python",
   "pygments_lexer": "ipython2",
   "version": "2.7.13"
  }
 },
 "nbformat": 4,
 "nbformat_minor": 2
}
