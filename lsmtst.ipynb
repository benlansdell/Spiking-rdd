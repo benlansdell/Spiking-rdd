{
 "cells": [
  {
   "cell_type": "code",
   "execution_count": 2,
   "metadata": {},
   "outputs": [
    {
     "name": "stdout",
     "output_type": "stream",
     "text": [
      "Populating the interactive namespace from numpy and matplotlib\n"
     ]
    },
    {
     "name": "stderr",
     "output_type": "stream",
     "text": [
      "/opt/anaconda/miniconda2/lib/python2.7/site-packages/IPython/core/magics/pylab.py:161: UserWarning: pylab import has clobbered these variables: ['rand']\n",
      "`%matplotlib` prevents importing * from pylab and numpy\n",
      "  \"\\n`%matplotlib` prevents importing * from pylab and numpy\"\n"
     ]
    }
   ],
   "source": [
    "%pylab inline\n",
    "pylab.rcParams['figure.figsize'] = (10, 6)\n",
    "\n",
    "#%matplotlib inline\n",
    "\n",
    "import matplotlib\n",
    "import numpy as np\n",
    "import matplotlib.pyplot as plt\n",
    "import numpy.random as rand\n",
    "from sklearn.kernel_ridge import KernelRidge\n",
    "from sklearn import linear_model\n",
    "from pandas.plotting import autocorrelation_plot as autocorr\n",
    "import pandas as pd\n",
    "\n",
    "from lib.lif import LIF, ParamsLIF, LSM\n",
    "from lib.causal import causaleffect, causaleffect_linear\n",
    "\n",
    "dt = 0.001         #Step size\n",
    "t = 10             #Simulation time\n",
    "tr = 0.003         #Refractory period\n",
    "mu = 1             #Threshold\n",
    "reset = 0          #Reset potential\n",
    "xsigma = 1         #Std dev of input x\n",
    "n = 2              #Number of neurons\n",
    "tau = 1            #Time constant\n",
    "c = .99            #Correlation between noise inputs\n",
    "sigma = 20         #Std dev of noise process"
   ]
  },
  {
   "cell_type": "code",
   "execution_count": null,
   "metadata": {
    "collapsed": true
   },
   "outputs": [],
   "source": [
    "#number of LSM neurons\n",
    "q = 100\n",
    "\n",
    "params = ParamsLIF()\n",
    "\n",
    "lsm = LSM(q)\n",
    "\n"
   ]
  }
 ],
 "metadata": {
  "kernelspec": {
   "display_name": "Python [default]",
   "language": "python",
   "name": "python2"
  },
  "language_info": {
   "codemirror_mode": {
    "name": "ipython",
    "version": 2
   },
   "file_extension": ".py",
   "mimetype": "text/x-python",
   "name": "python",
   "nbconvert_exporter": "python",
   "pygments_lexer": "ipython2",
   "version": "2.7.13"
  }
 },
 "nbformat": 4,
 "nbformat_minor": 2
}
